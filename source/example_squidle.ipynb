{
 "cells": [
  {
   "cell_type": "code",
   "id": "initial_id",
   "metadata": {
    "collapsed": true
   },
   "source": [
    "import os\n",
    "from sqapi.api import SQAPI\n",
    "from coco_mapping.squidle_data import SquidleData\n",
    "from coco_mapping.squidle_connection import SquidleAnnotator, SquidleConnection"
   ],
   "outputs": [],
   "execution_count": null
  },
  {
   "metadata": {},
   "cell_type": "code",
   "source": [
    "# Get a squidle connection\n",
    "api_key = \"INSERT YOUR API TOKEN HERE\"\n",
    "sqapi = SQAPI(api_key=api_key)\n",
    "squidle_connection = SquidleConnection(api_key=api_key)"
   ],
   "id": "bb802249ff15ef45",
   "outputs": [],
   "execution_count": null
  },
  {
   "metadata": {},
   "cell_type": "code",
   "source": [
    "# Retrieve media details using media_id\n",
    "media_id=2439621\n",
    "result = sqapi.get(f\"/api/media/{media_id}\").execute().json()\n",
    "print(result)"
   ],
   "id": "b6a0d2874b4e31e4",
   "outputs": [],
   "execution_count": null
  },
  {
   "metadata": {},
   "cell_type": "code",
   "source": [
    "# Retrieve the media_ids for the media in a list of media_collections.  Put results in a dictionary keyed by media_collection_id (mci)\n",
    "results_by_mci = {}\n",
    "media_collection_ids = [11600, 11601, 11602]\n",
    "for mci in media_collection_ids:\n",
    "    results = squidle_connection.recursive_get(\"/api/media_collection_media\", [dict(name=\"media_collection_id\", op=\"eq\",\n",
    "                       val=mci)])\n",
    "    results_by_mci[mci] = results"
   ],
   "id": "d67c3ea9e50245f",
   "outputs": [],
   "execution_count": null
  }
 ],
 "metadata": {
  "kernelspec": {
   "display_name": "Python 3",
   "language": "python",
   "name": "python3"
  },
  "language_info": {
   "codemirror_mode": {
    "name": "ipython",
    "version": 2
   },
   "file_extension": ".py",
   "mimetype": "text/x-python",
   "name": "python",
   "nbconvert_exporter": "python",
   "pygments_lexer": "ipython2",
   "version": "2.7.6"
  }
 },
 "nbformat": 4,
 "nbformat_minor": 5
}
