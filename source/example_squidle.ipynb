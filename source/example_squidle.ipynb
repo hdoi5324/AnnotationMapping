{
 "cells": [
  {
   "cell_type": "code",
   "id": "initial_id",
   "metadata": {
    "collapsed": true,
    "ExecuteTime": {
     "end_time": "2025-07-15T05:01:49.766809Z",
     "start_time": "2025-07-15T05:01:49.763449Z"
    }
   },
   "source": [
    "import os\n",
    "from sqapi.api import SQAPI\n",
    "from coco_mapping.squidle_data import SquidleData\n",
    "from coco_mapping.squidle_connection import SquidleAnnotator, SquidleConnection"
   ],
   "outputs": [],
   "execution_count": 11
  },
  {
   "metadata": {
    "ExecuteTime": {
     "end_time": "2025-07-15T05:01:50.019519Z",
     "start_time": "2025-07-15T05:01:49.790232Z"
    }
   },
   "cell_type": "code",
   "source": [
    "# Get a squidle connection\n",
    "api_key = \"INSERT YOUR API TOKEN HERE\"\n",
    "sqapi = SQAPI(api_key=api_key)\n",
    "print(f\"sqapi using login {sqapi.current_user['username']}\")\n",
    "\n",
    "squidle_connection = SquidleConnection(api_key=api_key)\n",
    "print(f\"squidle_connection using login {squidle_connection.current_user['username']}\")\n"
   ],
   "id": "bb802249ff15ef45",
   "outputs": [
    {
     "name": "stdout",
     "output_type": "stream",
     "text": [
      "sqapi using login hdoi5324\n",
      "squidle_connection using login hdoi5324\n"
     ]
    }
   ],
   "execution_count": 12
  },
  {
   "metadata": {},
   "cell_type": "markdown",
   "source": "### Using SQAPI for queries",
   "id": "1fa92e7e2398ed53"
  },
  {
   "metadata": {
    "ExecuteTime": {
     "end_time": "2025-07-15T05:01:50.277075Z",
     "start_time": "2025-07-15T05:01:50.134763Z"
    }
   },
   "cell_type": "code",
   "source": [
    "# Retrieve media details using media_id\n",
    "media_id=2439621\n",
    "result = sqapi.get(f\"/api/media/{media_id}\").execute().json()\n",
    "print(result)"
   ],
   "id": "b6a0d2874b4e31e4",
   "outputs": [
    {
     "name": "stdout",
     "output_type": "stream",
     "text": [
      "HTTP-GET: https://squidle.org/api/media/2439621 ... ✅ | 200 | Done in 0.14 s\n",
      "{'annotation_count': 16, 'created_at': '2018-06-07T00:47:17.273514', 'current_user_can_edit': False, 'data': {}, 'deployment': {'campaign': {'id': 29, 'key': 'Tasmania200906', 'name': 'Tasmania200906'}, 'id': 302, 'key': 'r20090615_062253_huon_mpa_15', 'name': 'huon_mpa_15', 'platform': {'id': 1, 'key': 'IMOS AUV Sirius', 'name': 'IMOS AUV Sirius'}, 'timestamp': 'Mon, 15 Jun 2009 06:31:06 GMT'}, 'deployment_id': 302, 'event_count': 0, 'events': [], 'id': 2439621, 'is_valid': True, 'key': 'PR_20090615_063202_594_LC16', 'media_type': {'id': 1, 'name': 'image'}, 'path_best': 'https://s3-ap-southeast-2.amazonaws.com/imos-data/IMOS/AUV/auv_viewer_data/images/Tasmania200906/r20090615_062253_huon_mpa_15/full_res/PR_20090615_063202_594_LC16.jpg', 'path_best_thm': 'https://s3-ap-southeast-2.amazonaws.com/imos-data/IMOS/AUV/auv_viewer_data/images/Tasmania200906/r20090615_062253_huon_mpa_15/thumbnails/PR_20090615_063202_594_LC16.jpg', 'pose': {'alt': 2.395, 'data': [{'name': 'chlorophyll_conc', 'value': 0.216}, {'name': 'cluster_tag', 'value': 0.0}, {'name': 'temperature', 'value': 13.592}, {'name': 'backscatter_rat', 'value': 0.00022400000000000002}, {'name': 'salinity', 'value': 35.137442}], 'dep': 54.371106999999995, 'id': 2439621, 'lat': -43.61331806, 'lon': 147.22294028, 'timestamp': 'Mon, 15 Jun 2009 06:32:02 GMT'}, 'pose_count': 1, 'timestamp_start': '2009-06-15T06:32:02'}\n"
     ]
    }
   ],
   "execution_count": 13
  },
  {
   "metadata": {},
   "cell_type": "markdown",
   "source": [
    "### Using SquidleConnection for queries\n",
    "\n",
    "SquidleConnection extends SQAPI with some convenience methods like recursive get."
   ],
   "id": "4e3ac745eb84b7f6"
  },
  {
   "metadata": {
    "ExecuteTime": {
     "end_time": "2025-07-15T05:01:50.620891Z",
     "start_time": "2025-07-15T05:01:50.289399Z"
    }
   },
   "cell_type": "code",
   "source": [
    "# Example using recursive_get\n",
    "# Retrieve the media_ids for the media in a list of media_collections.  Put results in a dictionary keyed by media_collection_id (mci)\n",
    "results_by_mci = {}\n",
    "media_collection_ids = [11600, 11601, 11602]\n",
    "for mci in media_collection_ids:\n",
    "    results = squidle_connection.recursive_get(\"/api/media_collection_media\", [dict(name=\"media_collection_id\", op=\"eq\",\n",
    "                       val=mci)])\n",
    "    results_by_mci[mci] = results"
   ],
   "id": "d67c3ea9e50245f",
   "outputs": [
    {
     "name": "stdout",
     "output_type": "stream",
     "text": [
      "HTTP-GET: https://squidle.org/api/media_collection_media?q={\"filters\":[{\"name\":\"media_collection_id\",\"op\":\"eq\",\"val\":11600}]}&page=1&results_per_page=1000 ... ✅ | 200 | Done in 0.12 s\n",
      "Retrieving page 1 of 1\n",
      "HTTP-GET: https://squidle.org/api/media_collection_media?q={\"filters\":[{\"name\":\"media_collection_id\",\"op\":\"eq\",\"val\":11601}]}&page=1&results_per_page=1000 ... ✅ | 200 | Done in 0.11 s\n",
      "Retrieving page 1 of 1\n",
      "HTTP-GET: https://squidle.org/api/media_collection_media?q={\"filters\":[{\"name\":\"media_collection_id\",\"op\":\"eq\",\"val\":11602}]}&page=1&results_per_page=1000 ... ✅ | 200 | Done in 0.10 s\n",
      "Retrieving page 1 of 1\n"
     ]
    }
   ],
   "execution_count": 14
  }
 ],
 "metadata": {
  "kernelspec": {
   "display_name": "Python 3",
   "language": "python",
   "name": "python3"
  },
  "language_info": {
   "codemirror_mode": {
    "name": "ipython",
    "version": 2
   },
   "file_extension": ".py",
   "mimetype": "text/x-python",
   "name": "python",
   "nbconvert_exporter": "python",
   "pygments_lexer": "ipython2",
   "version": "2.7.6"
  }
 },
 "nbformat": 4,
 "nbformat_minor": 5
}
